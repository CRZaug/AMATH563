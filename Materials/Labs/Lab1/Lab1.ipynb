{
 "cells": [
  {
   "cell_type": "markdown",
   "metadata": {
    "id": "VOBjwKeEm7nQ"
   },
   "source": [
    "# Lab 1: Introduction\n"
   ]
  },
  {
   "cell_type": "markdown",
   "metadata": {
    "id": "x7xmkhCeSc_m"
   },
   "source": [
    "# Lab Assignment: Implement Neural Network for XOR gate from scratch \n"
   ]
  },
  {
   "cell_type": "markdown",
   "metadata": {},
   "source": [
    "This lab was created by Prof. Schlizerman for AMATH563."
   ]
  },
  {
   "cell_type": "code",
   "execution_count": 64,
   "metadata": {},
   "outputs": [],
   "source": [
    "from numpy.linalg import multi_dot\n",
    "import matplotlib.pyplot as plt\n",
    "import pandas as pd\n",
    "import numpy as np\n",
    "%matplotlib inline"
   ]
  },
  {
   "cell_type": "code",
   "execution_count": 10,
   "metadata": {
    "id": "1Lu3k4tgRKMU",
    "outputId": "997e36b6-812a-426e-de16-7c39f70f633b"
   },
   "outputs": [
    {
     "data": {
      "text/html": [
       "<div>\n",
       "<style scoped>\n",
       "    .dataframe tbody tr th:only-of-type {\n",
       "        vertical-align: middle;\n",
       "    }\n",
       "\n",
       "    .dataframe tbody tr th {\n",
       "        vertical-align: top;\n",
       "    }\n",
       "\n",
       "    .dataframe thead th {\n",
       "        text-align: right;\n",
       "    }\n",
       "</style>\n",
       "<table border=\"1\" class=\"dataframe\">\n",
       "  <thead>\n",
       "    <tr style=\"text-align: right;\">\n",
       "      <th></th>\n",
       "      <th>x1</th>\n",
       "      <th>x2</th>\n",
       "      <th>y</th>\n",
       "    </tr>\n",
       "  </thead>\n",
       "  <tbody>\n",
       "    <tr>\n",
       "      <th>0</th>\n",
       "      <td>0</td>\n",
       "      <td>0</td>\n",
       "      <td>0</td>\n",
       "    </tr>\n",
       "    <tr>\n",
       "      <th>1</th>\n",
       "      <td>0</td>\n",
       "      <td>1</td>\n",
       "      <td>1</td>\n",
       "    </tr>\n",
       "    <tr>\n",
       "      <th>2</th>\n",
       "      <td>1</td>\n",
       "      <td>0</td>\n",
       "      <td>1</td>\n",
       "    </tr>\n",
       "    <tr>\n",
       "      <th>3</th>\n",
       "      <td>1</td>\n",
       "      <td>1</td>\n",
       "      <td>0</td>\n",
       "    </tr>\n",
       "  </tbody>\n",
       "</table>\n",
       "</div>"
      ],
      "text/plain": [
       "   x1  x2  y\n",
       "0   0   0  0\n",
       "1   0   1  1\n",
       "2   1   0  1\n",
       "3   1   1  0"
      ]
     },
     "execution_count": 10,
     "metadata": {},
     "output_type": "execute_result"
    }
   ],
   "source": [
    "# XOR table\n",
    "\n",
    "XOR_table = pd.read_csv('XOR_table.csv')\n",
    "XOR_table"
   ]
  },
  {
   "cell_type": "markdown",
   "metadata": {
    "id": "Y4yhYFD4h3eR"
   },
   "source": [
    "![](https://drive.google.com/uc?export=view&id=1lf82hKZxfBqhV2m5cLIRO_9pO1S3T4ty)"
   ]
  },
  {
   "cell_type": "code",
   "execution_count": 131,
   "metadata": {
    "id": "_oCWE2KK_vVr",
    "outputId": "18f4ca36-ac43-4d98-f73d-268f9267c1e3"
   },
   "outputs": [
    {
     "name": "stdout",
     "output_type": "stream",
     "text": [
      "[[0 0]\n",
      " [0 1]\n",
      " [1 0]\n",
      " [1 1]]\n",
      "[[0]\n",
      " [1]\n",
      " [1]\n",
      " [0]]\n"
     ]
    }
   ],
   "source": [
    "# XOR_table = XOR_table.values\n",
    "X = XOR_table[:, :2]\n",
    "targets = XOR_table[:, -1].reshape(-1,1)\n",
    "\n",
    "print(X)      # Input data\n",
    "print(targets) # Output targets"
   ]
  },
  {
   "cell_type": "code",
   "execution_count": 189,
   "metadata": {
    "id": "J7L0PtiRjNr5"
   },
   "outputs": [
    {
     "name": "stdout",
     "output_type": "stream",
     "text": [
      "[[0.01355059]\n",
      " [0.98763246]\n",
      " [0.98763454]\n",
      " [0.01128244]]\n"
     ]
    },
    {
     "data": {
      "image/png": "[encoded data removed]",
      "text/plain": [
       "<Figure size 432x288 with 1 Axes>"
      ]
     },
     "metadata": {
      "needs_background": "light"
     },
     "output_type": "display_data"
    }
   ],
   "source": [
    "\n",
    "# number of hidden layers\n",
    "n = 10 \n",
    "\n",
    "# number of epochs\n",
    "N = 100000 \n",
    "\n",
    "# Define learning rate\n",
    "learning_rate=0.1\n",
    "\n",
    "# Define a hidden layer\n",
    "W1= np.random.rand(2,n)\n",
    "\n",
    "# Define an output layer\n",
    "W2=np.random.rand(n,1)\n",
    "\n",
    "# Define sigmoid activation function\n",
    "a = lambda x : 1/(1+np.exp(-x))\n",
    "\n",
    "# Define loss function\n",
    "loss = lambda d,y : np.sum((d-y)**2)\n",
    "\n",
    "lossArray = np.zeros(N)\n",
    "\n",
    "for i in range(N):\n",
    "    \n",
    "  # Forward pass: compute predicted y\n",
    "    z = a(np.dot(X,W1)) \n",
    "    y = a(np.dot(z,W2))\n",
    "\n",
    "    # Compute loss\n",
    "    l = loss(targets,y)\n",
    "\n",
    "  # Backprop to compute gradients of w1 and w2 with respect to L2-norm loss\n",
    "    gradW2 = z.T.dot(2*(y-targets)*y*(1-y))\n",
    "    gradW1 = X.T.dot(((2*(y-targets)*y*(1-y)).dot(W2.T))*z*(1-z))\n",
    "    \n",
    "  # Update weights\n",
    "    W2 -= gradW2*learning_rate\n",
    "    W1 -= gradW1*learning_rate\n",
    "\n",
    "  # Save loss to an array\n",
    "    lossArray[i]=l\n",
    "print(y)\n",
    "plt.plot(lossArray)\n",
    "plt.title(\"L2 loss function with 10 hidden layers\")\n",
    "plt.xlabel(\"Epochs\")\n",
    "plt.ylabel(\"Error\")\n",
    "plt.show()"
   ]
  }
 ],
 "metadata": {
  "colab": {
   "collapsed_sections": [],
   "name": "Lab1.ipynb",
   "provenance": []
  },
  "kernelspec": {
   "display_name": "Python 3",
   "language": "python",
   "name": "python3"
  },
  "language_info": {
   "codemirror_mode": {
    "name": "ipython",
    "version": 3
   },
   "file_extension": ".py",
   "mimetype": "text/x-python",
   "name": "python",
   "nbconvert_exporter": "python",
   "pygments_lexer": "ipython3",
   "version": "3.7.6"
  }
 },
 "nbformat": 4,
 "nbformat_minor": 4
}
