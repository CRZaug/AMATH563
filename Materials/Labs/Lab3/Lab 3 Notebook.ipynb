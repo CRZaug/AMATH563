{
 "cells": [
  {
   "cell_type": "markdown",
   "metadata": {
    "id": "7KixHYy9Y5Tu"
   },
   "source": [
    "# Lab 3: Convolutional Neural Nets (CNNs)"
   ]
  },
  {
   "cell_type": "code",
   "execution_count": 1,
   "metadata": {},
   "outputs": [],
   "source": [
    "import numpy as np\n",
    "import torch\n",
    "from torch import nn\n",
    "import matplotlib.pyplot as plt\n",
    "import torchvision"
   ]
  },
  {
   "cell_type": "markdown",
   "metadata": {
    "id": "XaRkxg62ZH3e"
   },
   "source": [
    "## Assignment: LeNet5 Implementation"
   ]
  },
  {
   "cell_type": "markdown",
   "metadata": {},
   "source": [
    "### Load data"
   ]
  },
  {
   "cell_type": "code",
   "execution_count": 35,
   "metadata": {},
   "outputs": [],
   "source": [
    "train_dataset =  torchvision.datasets.MNIST('./files/', train=True, download=True,\n",
    "                             transform=torchvision.transforms.Compose([\n",
    "                               torchvision.transforms.ToTensor(),\n",
    "                               torchvision.transforms.Normalize(\n",
    "                                 (0.1307,), (0.3081,))\n",
    "                             ]))\n",
    "\n",
    "test_dataset = torchvision.datasets.MNIST('./files/', train=False, download=True,\n",
    "                             transform=torchvision.transforms.Compose([\n",
    "                               torchvision.transforms.ToTensor(),\n",
    "                               torchvision.transforms.Normalize(\n",
    "                                 (0.1307,), (0.3081,))\n",
    "                             ]))"
   ]
  },
  {
   "cell_type": "code",
   "execution_count": 36,
   "metadata": {},
   "outputs": [],
   "source": [
    "train_dataset_small, cv_dataset = torch.utils.data.random_split(train_dataset, \n",
    "                                                                [int(len(train_dataset.targets)-.2*len(train_dataset.targets)),int(0.2*len(train_dataset.targets))])"
   ]
  },
  {
   "cell_type": "markdown",
   "metadata": {},
   "source": [
    "### Define model architecture"
   ]
  },
  {
   "cell_type": "code",
   "execution_count": 54,
   "metadata": {
    "id": "4O7KPNtHpnSx"
   },
   "outputs": [],
   "source": [
    "class LeNet5(nn.Module):\n",
    "\n",
    "    def __init__(self, n_classes):\n",
    "        super(LeNet5, self).__init__()\n",
    "        \n",
    "        #define LeNet5\n",
    "        \n",
    "        # Layer 1: \n",
    "        self.cnn1 = nn.Conv2d(in_channels = 1,\n",
    "                              out_channels = 6,\n",
    "                              kernel_size= 5,\n",
    "                              padding = 2)\n",
    "        \n",
    "        # Layer 2\n",
    "        self.avgpool1 = nn.AvgPool2d(kernel_size = 2)\n",
    "        \n",
    "        # Layer 3\n",
    "        self.cnn2 = nn.Conv2d(in_channels = 6,\n",
    "                              out_channels = 16,\n",
    "                              kernel_size = 5)\n",
    "        \n",
    "        # Layer 4 = Layer 2\n",
    "        \n",
    "        # Layer 5\n",
    "        self.cnn3 = nn.Conv2d(in_channels = 16, \n",
    "                              out_channels = 120,\n",
    "                              kernel_size = 5)\n",
    "        \n",
    "        # Layer 6\n",
    "        self.linear1 = nn.Linear(120,84)\n",
    "        \n",
    "        # Layer 7\n",
    "        self.linear2 = nn.Linear(84,n_classes)\n",
    "        \n",
    "        # Activation functions\n",
    "        self.act = nn.Tanh()\n",
    "        \n",
    "        self.softmax = nn.Softmax(dim = 1)\n",
    "        \n",
    "    def forward(self, x):\n",
    "        #Define forward pass\n",
    "        \n",
    "        # Set 1\n",
    "        out = self.cnn1(x)\n",
    "        out = self.act(out)\n",
    "        out = self.avgpool1(out)\n",
    "        \n",
    "                \n",
    "        # Set 2\n",
    "        out = self.cnn2(out)\n",
    "        out = self.act(out)\n",
    "        out = self.avgpool1(out)\n",
    "        \n",
    "        # Set 3\n",
    "        out = self.cnn3(out)\n",
    "        out = self.act(out)\n",
    "        out = torch.reshape(out,(out.shape[0],1,1,120))\n",
    "#         print(out.shape)\n",
    "\n",
    "\n",
    "        \n",
    "        # Set 4\n",
    "        out = self.linear1(out)\n",
    "        out = self.act(out)\n",
    "        \n",
    "        # Set 5\n",
    "        logits = self.linear2(out)\n",
    "#         probs = self.softmax(logits)\n",
    "        logits = torch.reshape(logits,(logits.shape[0],10))\n",
    "        \n",
    "        return logits   #can also return probabilities\n",
    "#                         by performing softmax"
   ]
  },
  {
   "cell_type": "markdown",
   "metadata": {},
   "source": [
    "## Model training"
   ]
  },
  {
   "cell_type": "code",
   "execution_count": 55,
   "metadata": {},
   "outputs": [],
   "source": [
    "# Use the following code to load and normalize the dataset\n",
    "\n",
    "train_batch_size = 64 #Define train batch size\n",
    "test_batch_size  = 128 #Define test batch size (can be larger than train batch size)\n",
    "\n",
    "train_loader = torch.utils.data.DataLoader(train_dataset_small, batch_size=train_batch_size, shuffle=True)\n",
    "\n",
    "cv_loader = torch.utils.data.DataLoader(cv_dataset,batch_size=test_batch_size)\n",
    "\n"
   ]
  },
  {
   "cell_type": "markdown",
   "metadata": {},
   "source": [
    "### Initialize Network"
   ]
  },
  {
   "cell_type": "code",
   "execution_count": 56,
   "metadata": {},
   "outputs": [],
   "source": [
    "model = LeNet5(10)"
   ]
  },
  {
   "cell_type": "markdown",
   "metadata": {},
   "source": [
    "### Define optimizer"
   ]
  },
  {
   "cell_type": "code",
   "execution_count": 57,
   "metadata": {},
   "outputs": [],
   "source": [
    "optimizer = torch.optim.Adam(model.parameters(), lr=0.001)\n",
    "loss_fnc = nn.CrossEntropyLoss()"
   ]
  },
  {
   "cell_type": "markdown",
   "metadata": {},
   "source": [
    "### Perform training iterations"
   ]
  },
  {
   "cell_type": "code",
   "execution_count": 60,
   "metadata": {},
   "outputs": [
    {
     "name": "stdout",
     "output_type": "stream",
     "text": [
      "iteration 0\n",
      "iteration 1\n",
      "iteration 2\n",
      "iteration 3\n",
      "iteration 4\n",
      "iteration 5\n",
      "iteration 6\n",
      "iteration 7\n",
      "iteration 8\n"
     ]
    }
   ],
   "source": [
    "num_iterations = 9\n",
    "training_loss = []\n",
    "training_accuracy = []\n",
    "\n",
    "cv_loss = []\n",
    "cv_accuracy = []\n",
    "\n",
    "for iteration in range(num_iterations):\n",
    "    print(\"iteration\", iteration)\n",
    "    \n",
    "    loss_batch = []\n",
    "    accuracy_batch = []\n",
    "    \n",
    "    for train_sample in train_loader:\n",
    "        X = train_sample[0]\n",
    "        y = train_sample[1]\n",
    "\n",
    "        \n",
    "        y_pred = model(X)\n",
    "        \n",
    "        loss_test = loss_fnc(y_pred,y)\n",
    "        loss_batch.append(loss_test.item())\n",
    "        \n",
    "        train_correct = (torch.argmax(y_pred, dim=1)==y).type(torch.FloatTensor)\n",
    "        accuracy_batch.append(train_correct.mean())\n",
    "\n",
    "        \n",
    "        # Backprop\n",
    "        optimizer.zero_grad()\n",
    "        loss_test.backward()\n",
    "        optimizer.step()\n",
    "        \n",
    "    training_loss.append(np.mean(loss_batch))\n",
    "    training_accuracy.append(np.mean(accuracy_batch))\n",
    "\n",
    "\n",
    "    \n",
    "    loss_batch_cv = []\n",
    "    accuracy_batch_cv = []\n",
    "    with torch.no_grad():\n",
    "\n",
    "        for cv_sample in cv_loader:\n",
    "            X = cv_sample[0]\n",
    "            y = cv_sample[1]\n",
    "            y_pred = model(X)\n",
    "\n",
    "            loss_cv = loss_fnc(y_pred,y)\n",
    "            loss_batch_cv.append(loss_cv.item())\n",
    "\n",
    "            correct = (torch.argmax(y_pred, dim=1)==y).type(torch.FloatTensor)\n",
    "            \n",
    "            accuracy_batch_cv.append(correct.mean())\n",
    "            \n",
    "    cv_accuracy.append(np.mean(accuracy_batch))\n",
    "    cv_loss.append(np.mean(loss_batch_cv))"
   ]
  },
  {
   "cell_type": "markdown",
   "metadata": {},
   "source": [
    "### Evaluate model performance"
   ]
  },
  {
   "cell_type": "code",
   "execution_count": 61,
   "metadata": {},
   "outputs": [
    {
     "data": {
      "image/png": "[encoded data removed]",
      "text/plain": [
       "<Figure size 288x288 with 4 Axes>"
      ]
     },
     "metadata": {
      "needs_background": "light"
     },
     "output_type": "display_data"
    }
   ],
   "source": [
    "fig,ax = plt.subplots(2,2,figsize = (4,4))\n",
    "ax[0,0].plot(training_loss)\n",
    "ax[0,0].set_title(\"Training loss\")\n",
    "ax[0,1].plot(training_accuracy)\n",
    "ax[0,1].set_title(\"Training accuracy\")\n",
    "ax[1,0].plot(cv_loss)\n",
    "ax[1,0].set_title(\"CV loss\")\n",
    "ax[1,1].plot(cv_accuracy)\n",
    "ax[1,1].set_title(\"CV accuracy\")\n",
    "\n",
    "fig.tight_layout()\n",
    "\n",
    "plt.show()"
   ]
  },
  {
   "cell_type": "markdown",
   "metadata": {},
   "source": [
    "## Model Testing"
   ]
  },
  {
   "cell_type": "code",
   "execution_count": 62,
   "metadata": {},
   "outputs": [
    {
     "data": {
      "text/plain": [
       "tensor(0.9702)"
      ]
     },
     "execution_count": 62,
     "metadata": {},
     "output_type": "execute_result"
    }
   ],
   "source": [
    "with torch.no_grad():\n",
    "    \n",
    "    X_test = torch.reshape(test_dataset.data.type(torch.FloatTensor),(10000,1, 28, 28))\n",
    "    y_test_pred = model(X_test)\n",
    "    y_test = test_dataset.targets\n",
    "\n",
    "    loss_test = loss_fnc(y_test_pred,y_test)\n",
    "\n",
    "    correct = (torch.argmax(y_test_pred, dim=1)==y_test).type(torch.FloatTensor)\n",
    "\n",
    "    testaccuracy = correct.mean()\n",
    "\n",
    "testaccuracy"
   ]
  }
 ],
 "metadata": {
  "colab": {
   "collapsed_sections": [],
   "name": "Lab 3.ipynb",
   "provenance": []
  },
  "kernelspec": {
   "display_name": "Python 3",
   "language": "python",
   "name": "python3"
  },
  "language_info": {
   "codemirror_mode": {
    "name": "ipython",
    "version": 3
   },
   "file_extension": ".py",
   "mimetype": "text/x-python",
   "name": "python",
   "nbconvert_exporter": "python",
   "pygments_lexer": "ipython3",
   "version": "3.7.6"
  }
 },
 "nbformat": 4,
 "nbformat_minor": 1
}
