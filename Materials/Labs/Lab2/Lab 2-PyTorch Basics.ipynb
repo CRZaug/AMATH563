{
 "cells": [
  {
   "cell_type": "markdown",
   "metadata": {
    "id": "YkXyuplZp4aQ"
   },
   "source": [
    "# Lab 2: PyTorch Basics"
   ]
  },
  {
   "cell_type": "code",
   "execution_count": 1,
   "metadata": {
    "id": "p5dL4YeVorzV"
   },
   "outputs": [],
   "source": [
    "import torch\n",
    "import numpy as np"
   ]
  },
  {
   "cell_type": "code",
   "execution_count": 2,
   "metadata": {
    "id": "my6ukgfhuyK0"
   },
   "outputs": [],
   "source": [
    "from torch import nn"
   ]
  },
  {
   "cell_type": "code",
   "execution_count": 1,
   "metadata": {
    "id": "I5ol0c99w2MK"
   },
   "outputs": [],
   "source": [
    "import matplotlib.pyplot as plt"
   ]
  },
  {
   "cell_type": "markdown",
   "metadata": {
    "id": "b7h7N_1X4lmI"
   },
   "source": [
    "## Lab Assignment: MNIST Classification Task"
   ]
  },
  {
   "cell_type": "markdown",
   "metadata": {
    "id": "B0vR5I9h4s8V"
   },
   "source": [
    "Design your own MNIST Classification model (see video recording for explanation of MNIST dataset). You may choose your own hyperparameters, including:\n",
    "- Number of layers\n",
    "- Number of neurons in each layer\n",
    "- Learning rate\n",
    "- Number of training epochs\n",
    "- Optimizer\n",
    "\n",
    "Using a fully-connected network, you should be able to accomplish >90% accuracy on the test set. Please report your hyperparameter selections and accuracy in a summary at the end of the notebook."
   ]
  },
  {
   "cell_type": "markdown",
   "metadata": {
    "id": "ly85jvec6V6A"
   },
   "source": [
    "To load the MNIST dataset, we will use `torchvision`, which contains the datasets and has useful transformations. Start by defining the batch size you want for your training and test sets"
   ]
  },
  {
   "cell_type": "code",
   "execution_count": 3,
   "metadata": {
    "id": "feGo1EKE4sRg"
   },
   "outputs": [],
   "source": [
    "import torchvision\n",
    "\n",
    "\n",
    "train_dataset =  torchvision.datasets.MNIST('./files/', train=True, download=True,\n",
    "                             transform=torchvision.transforms.Compose([\n",
    "                               torchvision.transforms.ToTensor(),\n",
    "                               torchvision.transforms.Normalize(\n",
    "                                 (0.1307,), (0.3081,))\n",
    "                             ]))\n",
    "\n",
    "test_dataset = torchvision.datasets.MNIST('./files/', train=False, download=True,\n",
    "                             transform=torchvision.transforms.Compose([\n",
    "                               torchvision.transforms.ToTensor(),\n",
    "                               torchvision.transforms.Normalize(\n",
    "                                 (0.1307,), (0.3081,))\n",
    "                             ]))"
   ]
  },
  {
   "cell_type": "markdown",
   "metadata": {},
   "source": [
    "Create training and cross validation set"
   ]
  },
  {
   "cell_type": "code",
   "execution_count": 5,
   "metadata": {},
   "outputs": [],
   "source": [
    "train_dataset_small, cv_dataset = torch.utils.data.random_split(train_dataset, [int(len(train_dataset.targets)-.2*len(train_dataset.targets)),int(0.2*len(train_dataset.targets))])"
   ]
  },
  {
   "cell_type": "code",
   "execution_count": 6,
   "metadata": {
    "id": "feGo1EKE4sRg"
   },
   "outputs": [],
   "source": [
    "train_batch_size = 128 #Define train batch size\n",
    "test_batch_size  = 1024 #Define test batch size (can be larger than train batch size)\n",
    "\n",
    "train_loader = torch.utils.data.DataLoader(train_dataset_small, batch_size=train_batch_size, shuffle=True)\n",
    "\n",
    "cv_loader = torch.utils.data.DataLoader(cv_dataset,batch_size=test_batch_size)"
   ]
  },
  {
   "cell_type": "markdown",
   "metadata": {},
   "source": [
    "Define the network"
   ]
  },
  {
   "cell_type": "code",
   "execution_count": null,
   "metadata": {
    "id": "HrvoPg1f7Gxu"
   },
   "outputs": [],
   "source": [
    "class Network(nn.Module):\n",
    "    def __init__(self,input_dim,hidden_dim,output_dim):\n",
    "        super(Network, self).__init__() \n",
    "        # Use fully connected layers, softmax, and dropout with p=0.2\n",
    "        self.layer1 = nn.Linear(input_dim,hidden_dim)\n",
    "        self.act1 = nn.Softmax(dim=1)\n",
    "        self.layer2 = nn.Linear(hidden_dim,hidden_dim)\n",
    "        self.act2 = nn.Softmax(dim=1)\n",
    "        self.layer3 = nn.Linear(hidden_dim,output_dim)\n",
    "        self.act3 = nn.Softmax(dim=1)\n",
    "        self.dropout = nn.Dropout(p=0.2)\n",
    "\n",
    "    def forward(self, input):\n",
    "        # Layer 1\n",
    "        x = self.layer1(input)\n",
    "        x = self.dropout(x)\n",
    "        x = self.act1(x)\n",
    "        # Layer 2\n",
    "        x = self.layer2(x)\n",
    "        x = self.dropout(x)\n",
    "        x = self.act2(x)\n",
    "        # Layer 3\n",
    "        x = self.layer3(x)\n",
    "        output = self.act3(x)\n",
    "        \n",
    "        \n",
    "        return output\n"
   ]
  },
  {
   "cell_type": "markdown",
   "metadata": {},
   "source": [
    "Define the optimizer, loss, number of neurons in the hidden layers, and the number of epochs"
   ]
  },
  {
   "cell_type": "code",
   "execution_count": 37,
   "metadata": {
    "id": "0F_DyktW8Bgw"
   },
   "outputs": [],
   "source": [
    "model = Network(784,387,10) # The size of the hidden layer is the mean of the input and output layers\n",
    "optimizer = torch.optim.Adam(model.parameters(), lr=0.001)\n",
    "loss_fnc = nn.CrossEntropyLoss()\n",
    "epochs = 300"
   ]
  },
  {
   "cell_type": "markdown",
   "metadata": {},
   "source": [
    "Train the model and report training/cv/testing loss/accuracy"
   ]
  },
  {
   "cell_type": "code",
   "execution_count": 38,
   "metadata": {
    "id": "0F_DyktW8Bgw"
   },
   "outputs": [
    {
     "name": "stdout",
     "output_type": "stream",
     "text": [
      "0\n",
      "1\n",
      "2\n",
      "3\n",
      "4\n",
      "5\n",
      "6\n",
      "7\n",
      "8\n",
      "9\n",
      "10\n",
      "11\n",
      "12\n",
      "13\n",
      "14\n",
      "15\n",
      "16\n",
      "17\n",
      "18\n",
      "19\n",
      "20\n",
      "21\n",
      "22\n",
      "23\n",
      "24\n",
      "25\n",
      "26\n",
      "27\n",
      "28\n",
      "29\n",
      "30\n",
      "31\n",
      "32\n",
      "33\n",
      "34\n",
      "35\n",
      "36\n",
      "37\n",
      "38\n",
      "39\n",
      "40\n",
      "41\n",
      "42\n",
      "43\n",
      "44\n",
      "45\n",
      "46\n",
      "47\n",
      "48\n",
      "49\n",
      "50\n",
      "51\n",
      "52\n",
      "53\n",
      "54\n",
      "55\n",
      "56\n",
      "57\n",
      "58\n",
      "59\n",
      "60\n",
      "61\n",
      "62\n",
      "63\n",
      "64\n",
      "65\n",
      "66\n",
      "67\n",
      "68\n",
      "69\n",
      "70\n",
      "71\n",
      "72\n",
      "73\n",
      "74\n",
      "75\n",
      "76\n",
      "77\n",
      "78\n",
      "79\n",
      "80\n",
      "81\n",
      "82\n",
      "83\n",
      "84\n",
      "85\n",
      "86\n",
      "87\n",
      "88\n",
      "89\n",
      "90\n",
      "91\n",
      "92\n",
      "93\n",
      "94\n",
      "95\n",
      "96\n",
      "97\n",
      "98\n",
      "99\n",
      "100\n",
      "101\n",
      "102\n",
      "103\n",
      "104\n",
      "105\n",
      "106\n",
      "107\n",
      "108\n",
      "109\n",
      "110\n",
      "111\n",
      "112\n",
      "113\n",
      "114\n",
      "115\n",
      "116\n",
      "117\n",
      "118\n",
      "119\n",
      "120\n",
      "121\n",
      "122\n",
      "123\n",
      "124\n",
      "125\n",
      "126\n",
      "127\n",
      "128\n",
      "129\n",
      "130\n",
      "131\n",
      "132\n",
      "133\n",
      "134\n",
      "135\n",
      "136\n",
      "137\n",
      "138\n",
      "139\n",
      "140\n",
      "141\n",
      "142\n",
      "143\n",
      "144\n",
      "145\n",
      "146\n",
      "147\n",
      "148\n",
      "149\n",
      "150\n",
      "151\n",
      "152\n",
      "153\n",
      "154\n",
      "155\n",
      "156\n",
      "157\n",
      "158\n",
      "159\n",
      "160\n",
      "161\n",
      "162\n",
      "163\n",
      "164\n",
      "165\n",
      "166\n",
      "167\n",
      "168\n",
      "169\n",
      "170\n",
      "171\n",
      "172\n",
      "173\n",
      "174\n",
      "175\n",
      "176\n",
      "177\n",
      "178\n",
      "179\n",
      "180\n",
      "181\n",
      "182\n",
      "183\n",
      "184\n",
      "185\n",
      "186\n",
      "187\n",
      "188\n",
      "189\n",
      "190\n",
      "191\n",
      "192\n",
      "193\n",
      "194\n",
      "195\n",
      "196\n",
      "197\n",
      "198\n",
      "199\n",
      "200\n",
      "201\n",
      "202\n",
      "203\n",
      "204\n",
      "205\n",
      "206\n",
      "207\n",
      "208\n",
      "209\n",
      "210\n",
      "211\n",
      "212\n",
      "213\n",
      "214\n",
      "215\n",
      "216\n",
      "217\n",
      "218\n",
      "219\n",
      "220\n",
      "221\n",
      "222\n",
      "223\n",
      "224\n",
      "225\n",
      "226\n",
      "227\n",
      "228\n",
      "229\n",
      "230\n",
      "231\n",
      "232\n",
      "233\n",
      "234\n",
      "235\n",
      "236\n",
      "237\n",
      "238\n",
      "239\n",
      "240\n",
      "241\n",
      "242\n",
      "243\n",
      "244\n",
      "245\n",
      "246\n",
      "247\n",
      "248\n",
      "249\n",
      "250\n",
      "251\n",
      "252\n",
      "253\n",
      "254\n",
      "255\n",
      "256\n",
      "257\n",
      "258\n",
      "259\n",
      "260\n",
      "261\n",
      "262\n",
      "263\n",
      "264\n",
      "265\n",
      "266\n",
      "267\n",
      "268\n",
      "269\n",
      "270\n",
      "271\n",
      "272\n",
      "273\n",
      "274\n",
      "275\n",
      "276\n",
      "277\n",
      "278\n",
      "279\n",
      "280\n",
      "281\n",
      "282\n",
      "283\n",
      "284\n",
      "285\n",
      "286\n",
      "287\n",
      "288\n",
      "289\n",
      "290\n",
      "291\n",
      "292\n",
      "293\n",
      "294\n",
      "295\n",
      "296\n",
      "297\n",
      "298\n",
      "299\n"
     ]
    },
    {
     "data": {
      "text/plain": [
       "[tensor(0.7725), tensor(0.8580), tensor(0.8142), tensor(0.9105)]"
      ]
     },
     "execution_count": 38,
     "metadata": {},
     "output_type": "execute_result"
    }
   ],
   "source": [
    "LList_Train = []\n",
    "LList_Test = []\n",
    "AList = []\n",
    "\n",
    "for epoch in range(epochs):\n",
    "    print(epoch)\n",
    "\n",
    "    for train_sample in train_loader:\n",
    "\n",
    "        \n",
    "        # Calculate training loss on model\n",
    "        X = torch.reshape(train_sample[0],(train_sample[0].shape[0],784))\n",
    "        y = train_sample[1]\n",
    "        \n",
    "        y_pred = model(X)\n",
    "        \n",
    "        # Training Loss on the training set\n",
    "        loss = loss_fnc(y_pred,y)\n",
    "        LList_Train.append(loss.item())\n",
    "        \n",
    "        \n",
    "        # Backprop \n",
    "        optimizer.zero_grad()\n",
    "        loss.backward()\n",
    "        optimizer.step()\n",
    "        \n",
    "\n",
    "    \n",
    "    with torch.no_grad():\n",
    "\n",
    "        for cv_sample in cv_loader:\n",
    "\n",
    "            # Find the cross-validation error\n",
    "            X = torch.reshape(cv_sample[0],(cv_sample[0].shape[0],784))\n",
    "            y = cv_sample[1]\n",
    "\n",
    "            y_pred = model(X)\n",
    "\n",
    "            loss_test = loss_fnc(y_pred,y)\n",
    "            LList_Test.append(loss_test.item())\n",
    "\n",
    "            correct = (torch.argmax(y_pred, dim=1)==y).type(torch.FloatTensor)\n",
    "\n",
    "            AList.append(correct.mean())\n",
    "\n",
    "\n",
    "# Find the accuracy on the whole test set\n",
    "with torch.no_grad():\n",
    "    \n",
    "    X_test = test_dataset.data.flatten(start_dim=1).type(torch.FloatTensor)\n",
    "    y_test_pred = model(X_test)\n",
    "    y_test = test_dataset.targets\n",
    "\n",
    "    loss_test = loss_fnc(y_test_pred,y_test)\n",
    "\n",
    "    correct = (torch.argmax(y_test_pred, dim=1)==y_test).type(torch.FloatTensor)\n",
    "\n",
    "    testaccuracy.append(correct.mean())\n",
    "\n",
    "testaccuracy"
   ]
  },
  {
   "cell_type": "markdown",
   "metadata": {},
   "source": [
    "Plot the training loss, cv loss, and cv accuracy."
   ]
  },
  {
   "cell_type": "code",
   "execution_count": 39,
   "metadata": {},
   "outputs": [
    {
     "data": {
      "text/plain": [
       "[<matplotlib.lines.Line2D at 0x7fb263093e90>]"
      ]
     },
     "execution_count": 39,
     "metadata": {},
     "output_type": "execute_result"
    },
    {
     "data": {
      "image/png": "[encoded data removed]",
      "text/plain": [
       "<Figure size 432x288 with 1 Axes>"
      ]
     },
     "metadata": {
      "needs_background": "light"
     },
     "output_type": "display_data"
    }
   ],
   "source": [
    "plt.title(\"Training Loss (Over each batch seen)\")\n",
    "plt.xlabel(\"Training Samples Seen\")\n",
    "plt.ylabel(\"Loss\")\n",
    "plt.plot(LList_Train)"
   ]
  },
  {
   "cell_type": "code",
   "execution_count": 40,
   "metadata": {},
   "outputs": [
    {
     "data": {
      "text/plain": [
       "[<matplotlib.lines.Line2D at 0x7fb2618b5850>]"
      ]
     },
     "execution_count": 40,
     "metadata": {},
     "output_type": "execute_result"
    },
    {
     "data": {
      "image/png": "[encoded data removed]",
      "text/plain": [
       "<Figure size 432x288 with 1 Axes>"
      ]
     },
     "metadata": {
      "needs_background": "light"
     },
     "output_type": "display_data"
    }
   ],
   "source": [
    "plt.title(\"Cross-Validation Set Loss (Over each batch seen)\")\n",
    "plt.xlabel(\"Cross-Validation Batches Seen\")\n",
    "plt.ylabel(\"Loss\")\n",
    "plt.plot(LList_Test)"
   ]
  },
  {
   "cell_type": "code",
   "execution_count": 41,
   "metadata": {},
   "outputs": [
    {
     "data": {
      "text/plain": [
       "[<matplotlib.lines.Line2D at 0x7fb2600dd7d0>]"
      ]
     },
     "execution_count": 41,
     "metadata": {},
     "output_type": "execute_result"
    },
    {
     "data": {
      "image/png": "[encoded data removed]",
      "text/plain": [
       "<Figure size 432x288 with 1 Axes>"
      ]
     },
     "metadata": {
      "needs_background": "light"
     },
     "output_type": "display_data"
    }
   ],
   "source": [
    "plt.title(\"Cross-Validation Set Accuracy (Averaged over each batch seen)\")\n",
    "plt.xlabel(\"Cross-Validation Batches Seen\")\n",
    "plt.ylabel(\"Accuracy\")\n",
    "plt.plot(AList)"
   ]
  },
  {
   "cell_type": "markdown",
   "metadata": {},
   "source": [
    "### Summary\n",
    "\n",
    "#### A. The hyper parameters that I experimented with to find the optimal performance were:\n",
    "\n",
    "- The learning rate\n",
    "    - Between 0.001 and 0.1, grid search\n",
    "- The number of hidden layers\n",
    "    - Between 1-3, grid search\n",
    "- The dimension of the hidden layers\n",
    "    - Between 1-1000, random search\n",
    "- The activation function\n",
    "    - Tanh\n",
    "    - ReLu\n",
    "    - Softmax\n",
    "- Training epochs\n",
    "    - Between 1-40, random search\n",
    "- Other\n",
    "    - I tried dropout layers\n",
    "\n",
    "#### B. For the model that achieved the best performance, I used the following parameters:\n",
    "\n",
    "1. Layers: 3\n",
    "2. Neurons in each layer: 387\n",
    "3. Activation function: softmax\n",
    "4. Learning rate: 0.001\n",
    "5. Training epochs: 300\n",
    "6. Other hyperparameters: Two dropout layers at p=0.2\n",
    "\n",
    "#### C. The accuracy for my best performing model on the test set was `91.05%`.\n",
    "\n",
    "A limiting factor in obtaining a better training accuracy was the speed of each epoch. It took a long time to train the model, and when I tried to increase the number of workers in the dataloader sometimes workers would randomly fail. Next time I will use remote resources such as AMATH's computing resources, which should greatly speed up the process and allow for more fine-tuning of hyper parameters."
   ]
  }
 ],
 "metadata": {
  "colab": {
   "collapsed_sections": [
    "EM6GQLv6j5uH"
   ],
   "name": "Lab 2- PyTorch Basics.ipynb",
   "provenance": []
  },
  "kernelspec": {
   "display_name": "Python 3",
   "language": "python",
   "name": "python3"
  },
  "language_info": {
   "codemirror_mode": {
    "name": "ipython",
    "version": 3
   },
   "file_extension": ".py",
   "mimetype": "text/x-python",
   "name": "python",
   "nbconvert_exporter": "python",
   "pygments_lexer": "ipython3",
   "version": "3.7.6"
  }
 },
 "nbformat": 4,
 "nbformat_minor": 1
}
